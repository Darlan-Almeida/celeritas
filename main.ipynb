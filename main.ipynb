{
 "cells": [
  {
   "cell_type": "markdown",
   "metadata": {},
   "source": [
    "contando as quantidade de dados com resultados 0 ou  1"
   ]
  },
  {
   "cell_type": "code",
   "execution_count": 101,
   "metadata": {},
   "outputs": [
    {
     "name": "stdout",
     "output_type": "stream",
     "text": [
      "a quantidade de registro com o resultado 1 é: id        650\n",
      "col_0     650\n",
      "col_1     650\n",
      "col_2     650\n",
      "col_3     650\n",
      "col_4     650\n",
      "col_5     650\n",
      "col_6     650\n",
      "col_7     650\n",
      "col_8     650\n",
      "col_9     650\n",
      "col_10    650\n",
      "col_11    650\n",
      "col_12    650\n",
      "col_13    650\n",
      "col_14    650\n",
      "col_15    650\n",
      "col_16    650\n",
      "col_17    650\n",
      "col_18    650\n",
      "col_19    650\n",
      "target    650\n",
      "dtype: int64\n",
      "a quantidade de registro com o resultado 1 é: id        4950\n",
      "col_0     4950\n",
      "col_1     4950\n",
      "col_2     4950\n",
      "col_3     4950\n",
      "col_4     4950\n",
      "col_5     4950\n",
      "col_6     4950\n",
      "col_7     4950\n",
      "col_8     4950\n",
      "col_9     4950\n",
      "col_10    4950\n",
      "col_11    4950\n",
      "col_12    4950\n",
      "col_13    4950\n",
      "col_14    4950\n",
      "col_15    4950\n",
      "col_16    4950\n",
      "col_17    4950\n",
      "col_18    4950\n",
      "col_19    4950\n",
      "target    4950\n",
      "dtype: int64\n"
     ]
    }
   ],
   "source": [
    "from sklearn.tree import DecisionTreeRegressor\n",
    "from sklearn.model_selection import train_test_split\n",
    "from sklearn.metrics import r2_score , mean_squared_error \n",
    "import pandas as pd\n",
    "\n",
    "\n",
    "data =pd.read_csv('treino.csv')\n",
    "data_um = data[data['target'] == 1]\n",
    "data_zero = data[data['target'] == 0]\n",
    "print(\"a quantidade de registro com o resultado 1 é:\" , data_um.count(axis = 0 ))\n",
    "print(\"a quantidade de registro com o resultado 1 é:\" , data_zero.count(axis = 0))"
   ]
  },
  {
   "cell_type": "markdown",
   "metadata": {},
   "source": []
  },
  {
   "cell_type": "markdown",
   "metadata": {},
   "source": [
    "váriaveis usada para rotulagem"
   ]
  },
  {
   "cell_type": "code",
   "execution_count": 102,
   "metadata": {},
   "outputs": [],
   "source": [
    "x = data.drop('target' , axis=1)\n",
    "\n"
   ]
  },
  {
   "cell_type": "code",
   "execution_count": 103,
   "metadata": {},
   "outputs": [],
   "source": [
    "y = data.target\n"
   ]
  },
  {
   "cell_type": "markdown",
   "metadata": {},
   "source": [
    "Arvore de decisão"
   ]
  },
  {
   "cell_type": "code",
   "execution_count": 104,
   "metadata": {},
   "outputs": [
    {
     "name": "stdout",
     "output_type": "stream",
     "text": [
      "o valor do primeiro é: 0\n",
      "erro médio:  0.16285714285714287\n"
     ]
    }
   ],
   "source": [
    "\n",
    "\n",
    "x_treino , x_teste , y_treino , y_teste = train_test_split(x,y)\n",
    "\n",
    "#instancia\n",
    "modelo = DecisionTreeRegressor()\n",
    "\n",
    "modelo.fit(x_treino , y_treino)\n",
    "\n",
    "y_arvore_decisao = modelo.predict(x_teste)\n",
    "\n",
    "\n",
    "erro_quadratico_tree = mean_squared_error(y_teste , y_arvore_decisao)\n",
    "\n",
    "value_arvore = modelo.predict(x)\n",
    "\n",
    "\n",
    "\n",
    "print(\"o valor do primeiro é:\" , int(value_arvore[0]))\n",
    "print(\"erro médio: \" , erro_quadratico_tree)\n",
    "\n",
    "\n"
   ]
  },
  {
   "cell_type": "markdown",
   "metadata": {},
   "source": [
    "Apagar As respostas da base de treinamento clonada"
   ]
  },
  {
   "cell_type": "code",
   "execution_count": 105,
   "metadata": {},
   "outputs": [
    {
     "name": "stdout",
     "output_type": "stream",
     "text": [
      "A última coluna do arquivo treino_clone.csv foi removida com sucesso.\n"
     ]
    }
   ],
   "source": [
    "import csv\n",
    "\n",
    "# Nome do arquivo CSV que você deseja modificar (substitua pelo seu próprio arquivo)\n",
    "nome_arquivo = 'treino_clone.csv'\n",
    "\n",
    "# Lista para armazenar os dados do CSV com a última coluna removida\n",
    "dados_csv = []\n",
    "\n",
    "# Abra o arquivo CSV e leia seus dados\n",
    "with open(nome_arquivo, 'r', newline='') as arquivo_csv:\n",
    "    leitor_csv = csv.reader(arquivo_csv)\n",
    "    \n",
    "    # Loop para ler cada linha do arquivo CSV e remover a última coluna\n",
    "    for linha in leitor_csv:\n",
    "        linha_sem_ultima_coluna = linha[:-1]  # Remove a última coluna\n",
    "        dados_csv.append(linha_sem_ultima_coluna)\n",
    "\n",
    "# Agora, você tem 'dados_csv' com a última coluna removida de cada registro\n",
    "\n",
    "# Reabra o arquivo CSV em modo de escrita (\"w\") para sobrescrever os dados\n",
    "with open(nome_arquivo, 'w', newline='') as arquivo_csv:\n",
    "    escritor_csv = csv.writer(arquivo_csv)\n",
    "    \n",
    "    # Escreva os dados atualizados no arquivo\n",
    "    escritor_csv.writerows(dados_csv)\n",
    "\n",
    "print(f'A última coluna do arquivo {nome_arquivo} foi removida com sucesso.')\n"
   ]
  },
  {
   "cell_type": "markdown",
   "metadata": {},
   "source": [
    "Preencher uma tabela de teste que é clonada com a da base de treinamento\n"
   ]
  },
  {
   "cell_type": "code",
   "execution_count": 106,
   "metadata": {},
   "outputs": [
    {
     "name": "stdout",
     "output_type": "stream",
     "text": [
      "A nova coluna \"target\" foi adicionada ao arquivo treino_clone.csv com sucesso.\n"
     ]
    }
   ],
   "source": [
    "import csv\n",
    "\n",
    "# Nome do arquivo CSV que você deseja modificar (substitua pelo seu próprio arquivo)\n",
    "nome_arquivo = 'treino_clone.csv'\n",
    "\n",
    "# Lista de valores que você deseja adicionar como a nova coluna \"target\" (substitua pelos seus próprios valores)\n",
    "valores_target_float = (value_arvore)\n",
    "\n",
    "valores_target = [int(valor) for valor in valores_target_float]\n",
    "\n",
    "# Abra o arquivo CSV e leia seus dados\n",
    "with open(nome_arquivo, 'r', newline='') as arquivo_csv:\n",
    "    leitor_csv = csv.reader(arquivo_csv)\n",
    "    \n",
    "    # Crie uma lista para armazenar os dados do CSV com a nova coluna \"target\"\n",
    "    dados_csv_com_target = []\n",
    "\n",
    "    primeira_linha = next(leitor_csv)\n",
    "    primeira_linha.append(\"target\")\n",
    "    dados_csv_com_target.append(primeira_linha)\n",
    "\n",
    "    # Loop para ler cada linha do arquivo CSV e adicionar a nova coluna \"target\"\n",
    "    for linha, valor_target in zip(leitor_csv, valores_target):\n",
    "        linha.append((valor_target))  # Adiciona o valor da nova coluna\n",
    "        dados_csv_com_target.append(linha)\n",
    "\n",
    "# Reabra o arquivo CSV em modo de escrita (\"w\") para sobrescrever os dados\n",
    "with open(nome_arquivo, 'w', newline='') as arquivo_csv:\n",
    "    escritor_csv = csv.writer(arquivo_csv)\n",
    "    \n",
    "    # Escreva os dados atualizados no arquivo, agora com a nova coluna \"target\"\n",
    "    escritor_csv.writerows(dados_csv_com_target)\n",
    "\n",
    "print(f'A nova coluna \"target\" foi adicionada ao arquivo {nome_arquivo} com sucesso.')\n"
   ]
  },
  {
   "cell_type": "markdown",
   "metadata": {},
   "source": [
    "Agora vou comparar as duas tabelas e analisar o percentual de acerto dos modelos"
   ]
  },
  {
   "cell_type": "code",
   "execution_count": 107,
   "metadata": {},
   "outputs": [
    {
     "name": "stdout",
     "output_type": "stream",
     "text": [
      "Número de correspondências nas mesmas linhas: 5372\n",
      "Número de acertos com target igual a 0: 4828\n",
      "Número de acertos com target igual a 1: 544\n",
      "Percentual de acertos total: 95.91144438493127%\n",
      "Percentual de acertos de valores igual a 0: 97.54%\n",
      "Percentual de acertos de valores igual a 1: 83.69%\n"
     ]
    }
   ],
   "source": [
    "import csv\n",
    "\n",
    "# Nomes dos arquivos CSV que você deseja comparar (substitua pelos seus próprios arquivos)\n",
    "arquivo1 = 'treino.csv'\n",
    "arquivo2 = 'treino_clone.csv'\n",
    "\n",
    "# detalhes dos valores dos registros \n",
    "total_registros_zero = 4950\n",
    "total_registros_um = 650\n",
    "\n",
    "total_registros = 5601\n",
    "\n",
    "# Inicialize um contador para contar as correspondências nas mesmas linhas e numeros\n",
    "correspondencias_na_mesma_linha = 0\n",
    "acertos_zero = 0\n",
    "acertos_um = 0\n",
    "\n",
    "\n",
    "# Abra o primeiro arquivo CSV e leia seus dados\n",
    "with open(arquivo1, 'r', newline='') as arquivo_csv1:\n",
    "    leitor_csv1 = csv.reader(arquivo_csv1)\n",
    "    # Pule o cabeçalho, se houver\n",
    "    cabecalho1 = next(leitor_csv1, None)\n",
    "    \n",
    "    # Abra o segundo arquivo CSV e leia seus dados\n",
    "    with open(arquivo2, 'r', newline='') as arquivo_csv2:\n",
    "        leitor_csv2 = csv.reader(arquivo_csv2)\n",
    "        # Pule o cabeçalho, se houver\n",
    "        cabecalho2 = next(leitor_csv2, None)\n",
    "\n",
    "        # Loop para comparar os valores da coluna \"Target\" nas mesmas linhas\n",
    "        for linha1, linha2 in zip(leitor_csv1, leitor_csv2):\n",
    "            valor_target1 = linha1[-1]  # Último valor da linha1\n",
    "            valor_target2 = linha2[-1]  # Último valor da linha2\n",
    "\n",
    "            if valor_target1 == valor_target2:\n",
    "                correspondencias_na_mesma_linha += 1\n",
    "                if(valor_target1 == '0'):\n",
    "                    acertos_zero += 1\n",
    "\n",
    "                else:\n",
    "                    acertos_um += 1\n",
    "\n",
    "\n",
    "# Exiba o número de correspondências nas mesmas linhas\n",
    "print(f'Número de correspondências nas mesmas linhas: {correspondencias_na_mesma_linha}')\n",
    "print(f'Número de acertos com target igual a 0: {acertos_zero}')\n",
    "print(f'Número de acertos com target igual a 1: {acertos_um}')\n",
    "\n",
    "\n",
    "# calculo de percentual de acerto\n",
    "percentual_acertos_total = (correspondencias_na_mesma_linha/total_registros) * 100\n",
    "percentual_acertos_zero = (acertos_zero/total_registros_zero) * 100\n",
    "percentual_acertos_um = (acertos_um/total_registros_um) * 100\n",
    "\n",
    "print(f'Percentual de acertos total: {percentual_acertos_total}%')\n",
    "print('Percentual de acertos de valores igual a 0: {:.2f}%'.format(percentual_acertos_zero))\n",
    "print('Percentual de acertos de valores igual a 1: {:.2f}%'.format(percentual_acertos_um))\n"
   ]
  },
  {
   "cell_type": "markdown",
   "metadata": {},
   "source": [
    "Preenchendo a base de treino com a arvore de decisão"
   ]
  },
  {
   "cell_type": "code",
   "execution_count": 108,
   "metadata": {},
   "outputs": [
    {
     "name": "stdout",
     "output_type": "stream",
     "text": [
      "A nova coluna \"target\" foi adicionada ao arquivo teste_clone.csv com sucesso.\n"
     ]
    }
   ],
   "source": [
    "base_teste = \"teste_clone.csv\"\n",
    "\n",
    "\n",
    "# Lista de valores que você deseja adicionar como a nova coluna \"target\" (substitua pelos seus próprios valores)\n",
    "valores_target_float = (value_arvore)\n",
    "\n",
    "valores_target = [int(valor) for valor in valores_target_float]\n",
    "\n",
    "# Abra o arquivo CSV e leia seus dados\n",
    "with open(base_teste, 'r', newline='') as arquivo_csv:\n",
    "    leitor_csv = csv.reader(arquivo_csv)\n",
    "    \n",
    "    # Crie uma lista para armazenar os dados do CSV com a nova coluna \"target\"\n",
    "    dados_csv_com_target = []\n",
    "\n",
    "    primeira_linha = next(leitor_csv)\n",
    "    primeira_linha.append(\"target\")\n",
    "    dados_csv_com_target.append(primeira_linha)\n",
    "\n",
    "    # Loop para ler cada linha do arquivo CSV e adicionar a nova coluna \"target\"\n",
    "    for linha, valor_target in zip(leitor_csv, valores_target):\n",
    "        linha.append((valor_target))  # Adiciona o valor da nova coluna\n",
    "        dados_csv_com_target.append(linha)\n",
    "\n",
    "# Reabra o arquivo CSV em modo de escrita (\"w\") para sobrescrever os dados\n",
    "with open(base_teste, 'w', newline='') as arquivo_csv:\n",
    "    escritor_csv = csv.writer(arquivo_csv)\n",
    "    \n",
    "    # Escreva os dados atualizados no arquivo, agora com a nova coluna \"target\"\n",
    "    escritor_csv.writerows(dados_csv_com_target)\n",
    "\n",
    "print(f'A nova coluna \"target\" foi adicionada ao arquivo {base_teste} com sucesso.')\n"
   ]
  },
  {
   "cell_type": "markdown",
   "metadata": {},
   "source": [
    "Avaliando o modelo\n"
   ]
  },
  {
   "cell_type": "code",
   "execution_count": 109,
   "metadata": {},
   "outputs": [
    {
     "name": "stdout",
     "output_type": "stream",
     "text": [
      "Precisão: 0.3107344632768362\n",
      "Revocação: 0.3416149068322981\n",
      "Medida-F: 0.3254437869822485\n"
     ]
    }
   ],
   "source": [
    "from sklearn.metrics import precision_score, recall_score, f1_score, roc_auc_score\n",
    "\n",
    "y_pred_validacao = modelo.predict(x_teste)\n",
    "\n",
    "# Avalie o desempenho do modelo no conjunto de validação\n",
    "precisao = precision_score(y_teste, y_pred_validacao)\n",
    "revocacao = recall_score(y_teste, y_pred_validacao)\n",
    "medida_f = f1_score(y_teste, y_pred_validacao)\n",
    "\n",
    "# Exibir as métricas\n",
    "print(\"Precisão:\", precisao)\n",
    "print(\"Revocação:\", revocacao)\n",
    "print(\"Medida-F:\", medida_f)\n"
   ]
  },
  {
   "cell_type": "markdown",
   "metadata": {},
   "source": [
    "formatando a planilha para exibir apenas o id e o target"
   ]
  },
  {
   "cell_type": "code",
   "execution_count": 110,
   "metadata": {},
   "outputs": [],
   "source": [
    "teste = pd.read_csv('teste_clone.csv')\n",
    "\n",
    "teste_original = teste[['id' , 'target']]\n",
    "\n",
    "teste_original.to_csv('teste_original.csv' , index=False)"
   ]
  }
 ],
 "metadata": {
  "kernelspec": {
   "display_name": "Python 3 (ipykernel)",
   "language": "python",
   "name": "python3"
  },
  "language_info": {
   "codemirror_mode": {
    "name": "ipython",
    "version": 3
   },
   "file_extension": ".py",
   "mimetype": "text/x-python",
   "name": "python",
   "nbconvert_exporter": "python",
   "pygments_lexer": "ipython3",
   "version": "3.10.8"
  },
  "orig_nbformat": 4
 },
 "nbformat": 4,
 "nbformat_minor": 2
}
