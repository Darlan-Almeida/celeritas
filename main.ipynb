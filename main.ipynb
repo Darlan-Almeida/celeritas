{
 "cells": [
  {
   "cell_type": "markdown",
   "metadata": {},
   "source": [
    "Coletando os 10 primeiros registros que tem o resultado igual a 1"
   ]
  },
  {
   "cell_type": "code",
   "execution_count": 72,
   "metadata": {},
   "outputs": [
    {
     "name": "stdout",
     "output_type": "stream",
     "text": [
      "a quantidade de registro com o resultado 1 é: id        650\n",
      "col_0     650\n",
      "col_1     650\n",
      "col_2     650\n",
      "col_3     650\n",
      "col_4     650\n",
      "col_5     650\n",
      "col_6     650\n",
      "col_7     650\n",
      "col_8     650\n",
      "col_9     650\n",
      "col_10    650\n",
      "col_11    650\n",
      "col_12    650\n",
      "col_13    650\n",
      "col_14    650\n",
      "col_15    650\n",
      "col_16    650\n",
      "col_17    650\n",
      "col_18    650\n",
      "col_19    650\n",
      "target    650\n",
      "dtype: int64\n",
      "a quantidade de registro com o resultado 1 é: id        4950\n",
      "col_0     4950\n",
      "col_1     4950\n",
      "col_2     4950\n",
      "col_3     4950\n",
      "col_4     4950\n",
      "col_5     4950\n",
      "col_6     4950\n",
      "col_7     4950\n",
      "col_8     4950\n",
      "col_9     4950\n",
      "col_10    4950\n",
      "col_11    4950\n",
      "col_12    4950\n",
      "col_13    4950\n",
      "col_14    4950\n",
      "col_15    4950\n",
      "col_16    4950\n",
      "col_17    4950\n",
      "col_18    4950\n",
      "col_19    4950\n",
      "target    4950\n",
      "dtype: int64\n"
     ]
    }
   ],
   "source": [
    "from sklearn.tree import DecisionTreeRegressor\n",
    "from sklearn.model_selection import train_test_split\n",
    "from sklearn.metrics import r2_score , mean_squared_error \n",
    "import pandas as pd\n",
    "\n",
    "\n",
    "data =pd.read_csv('treino.csv')\n",
    "data_um = data[data['target'] == 1]\n",
    "data_zero = data[data['target'] == 0]\n",
    "print(\"a quantidade de registro com o resultado 1 é:\" , data_um.count(axis = 0 ))\n",
    "print(\"a quantidade de registro com o resultado 1 é:\" , data_zero.count(axis = 0))"
   ]
  },
  {
   "cell_type": "markdown",
   "metadata": {},
   "source": []
  },
  {
   "cell_type": "code",
   "execution_count": 73,
   "metadata": {},
   "outputs": [],
   "source": [
    "x = data.drop('target' , axis=1)\n",
    "\n"
   ]
  },
  {
   "cell_type": "code",
   "execution_count": 74,
   "metadata": {},
   "outputs": [],
   "source": [
    "y = data.target\n"
   ]
  },
  {
   "cell_type": "markdown",
   "metadata": {},
   "source": [
    "Arvore de decisão"
   ]
  },
  {
   "cell_type": "code",
   "execution_count": 75,
   "metadata": {},
   "outputs": [
    {
     "name": "stdout",
     "output_type": "stream",
     "text": [
      "o valor do primeiro é: 0\n",
      "erro médio:  0.19214285714285714\n",
      "-0.9626440974755581\n"
     ]
    }
   ],
   "source": [
    "\n",
    "\n",
    "x_treino , x_teste , y_treino , y_teste = train_test_split(x,y)\n",
    "\n",
    "#instancia\n",
    "modelo = DecisionTreeRegressor()\n",
    "\n",
    "modelo.fit(x_treino , y_treino)\n",
    "\n",
    "y_arvore_decisao = modelo.predict(x_teste)\n",
    "\n",
    "\n",
    "resultado = r2_score(y_teste , y_arvore_decisao)\n",
    "\n",
    "erro_quadratico_tree = mean_squared_error(y_teste , y_arvore_decisao)\n",
    "\n",
    "value_arvore = modelo.predict(x)\n",
    "\n",
    "\n",
    "\n",
    "print(\"o valor do primeiro é:\" , int(value_arvore[0]))\n",
    "print(\"erro médio: \" , erro_quadratico_tree)\n",
    "print(resultado)\n",
    "\n",
    "\n"
   ]
  },
  {
   "cell_type": "markdown",
   "metadata": {},
   "source": [
    "Floresta aleatória"
   ]
  },
  {
   "cell_type": "code",
   "execution_count": 76,
   "metadata": {},
   "outputs": [
    {
     "name": "stdout",
     "output_type": "stream",
     "text": [
      "Resultado da Floresta Aleatória:\n",
      "Erro Quadrático Médio: 0.0773174107142857\n",
      "R^2: 0.22561591772859402\n",
      "Previsão para novos dados: 0\n"
     ]
    }
   ],
   "source": [
    "from sklearn.ensemble import RandomForestRegressor\n",
    "from sklearn.metrics import mean_squared_error, r2_score\n",
    "\n",
    "# Divida os dados em conjuntos de treinamento e teste\n",
    "x_treino, x_teste, y_treino, y_teste = train_test_split(x, y, test_size=0.2, random_state=42)\n",
    "\n",
    "# Crie e treine um modelo de Floresta Aleatória\n",
    "modelo_rf = RandomForestRegressor(n_estimators=100, random_state=42)\n",
    "modelo_rf.fit(x_treino, y_treino)\n",
    "\n",
    "# Faça previsões no conjunto de teste\n",
    "y_rf = modelo_rf.predict(x_teste)\n",
    "\n",
    "# Avalie o desempenho do modelo de Floresta Aleatória\n",
    "resultado_rf = r2_score(y_teste, y_rf)\n",
    "erro_quadratico_rf = mean_squared_error(y_teste, y_rf)\n",
    "\n",
    "# Faça previsões para novos dados (opcional)\n",
    "novos_dados = x  # Substitua com seus próprios valores\n",
    "value_rf = modelo_rf.predict(novos_dados)\n",
    "\n",
    "print(\"Resultado da Floresta Aleatória:\")\n",
    "print(\"Erro Quadrático Médio:\", erro_quadratico_rf)\n",
    "print(\"R^2:\", resultado_rf)\n",
    "print(\"Previsão para novos dados:\", int(value_rf[0]))\n"
   ]
  },
  {
   "cell_type": "markdown",
   "metadata": {},
   "source": [
    "Apagar As respostas da base de treinamento clonada"
   ]
  },
  {
   "cell_type": "code",
   "execution_count": 77,
   "metadata": {},
   "outputs": [
    {
     "name": "stdout",
     "output_type": "stream",
     "text": [
      "A última coluna do arquivo treino_clone.csv foi removida com sucesso.\n"
     ]
    }
   ],
   "source": [
    "import csv\n",
    "\n",
    "# Nome do arquivo CSV que você deseja modificar (substitua pelo seu próprio arquivo)\n",
    "nome_arquivo = 'treino_clone.csv'\n",
    "\n",
    "# Lista para armazenar os dados do CSV com a última coluna removida\n",
    "dados_csv = []\n",
    "\n",
    "# Abra o arquivo CSV e leia seus dados\n",
    "with open(nome_arquivo, 'r', newline='') as arquivo_csv:\n",
    "    leitor_csv = csv.reader(arquivo_csv)\n",
    "    \n",
    "    # Loop para ler cada linha do arquivo CSV e remover a última coluna\n",
    "    for linha in leitor_csv:\n",
    "        linha_sem_ultima_coluna = linha[:-1]  # Remove a última coluna\n",
    "        dados_csv.append(linha_sem_ultima_coluna)\n",
    "\n",
    "# Agora, você tem 'dados_csv' com a última coluna removida de cada registro\n",
    "\n",
    "# Reabra o arquivo CSV em modo de escrita (\"w\") para sobrescrever os dados\n",
    "with open(nome_arquivo, 'w', newline='') as arquivo_csv:\n",
    "    escritor_csv = csv.writer(arquivo_csv)\n",
    "    \n",
    "    # Escreva os dados atualizados no arquivo\n",
    "    escritor_csv.writerows(dados_csv)\n",
    "\n",
    "print(f'A última coluna do arquivo {nome_arquivo} foi removida com sucesso.')\n"
   ]
  },
  {
   "cell_type": "markdown",
   "metadata": {},
   "source": [
    "Preencher uma tabela de teste que é clonada com a da base de treinamento\n"
   ]
  },
  {
   "cell_type": "code",
   "execution_count": 78,
   "metadata": {},
   "outputs": [
    {
     "name": "stdout",
     "output_type": "stream",
     "text": [
      "A nova coluna \"target\" foi adicionada ao arquivo treino_clone.csv com sucesso.\n"
     ]
    }
   ],
   "source": [
    "import csv\n",
    "\n",
    "# Nome do arquivo CSV que você deseja modificar (substitua pelo seu próprio arquivo)\n",
    "nome_arquivo = 'treino_clone.csv'\n",
    "\n",
    "# Lista de valores que você deseja adicionar como a nova coluna \"target\" (substitua pelos seus próprios valores)\n",
    "valores_target_float = (value_arvore)\n",
    "\n",
    "valores_target = [int(valor) for valor in valores_target_float]\n",
    "\n",
    "# Abra o arquivo CSV e leia seus dados\n",
    "with open(nome_arquivo, 'r', newline='') as arquivo_csv:\n",
    "    leitor_csv = csv.reader(arquivo_csv)\n",
    "    \n",
    "    # Crie uma lista para armazenar os dados do CSV com a nova coluna \"target\"\n",
    "    dados_csv_com_target = []\n",
    "\n",
    "    primeira_linha = next(leitor_csv)\n",
    "    primeira_linha.append(\"target\")\n",
    "    dados_csv_com_target.append(primeira_linha)\n",
    "\n",
    "    # Loop para ler cada linha do arquivo CSV e adicionar a nova coluna \"target\"\n",
    "    for linha, valor_target in zip(leitor_csv, valores_target):\n",
    "        linha.append((valor_target))  # Adiciona o valor da nova coluna\n",
    "        dados_csv_com_target.append(linha)\n",
    "\n",
    "# Reabra o arquivo CSV em modo de escrita (\"w\") para sobrescrever os dados\n",
    "with open(nome_arquivo, 'w', newline='') as arquivo_csv:\n",
    "    escritor_csv = csv.writer(arquivo_csv)\n",
    "    \n",
    "    # Escreva os dados atualizados no arquivo, agora com a nova coluna \"target\"\n",
    "    escritor_csv.writerows(dados_csv_com_target)\n",
    "\n",
    "print(f'A nova coluna \"target\" foi adicionada ao arquivo {nome_arquivo} com sucesso.')\n"
   ]
  },
  {
   "cell_type": "markdown",
   "metadata": {},
   "source": [
    "Agora vou comparar as duas tabelas e analisar o percentual de acerto dos modelos"
   ]
  },
  {
   "cell_type": "code",
   "execution_count": 79,
   "metadata": {},
   "outputs": [
    {
     "name": "stdout",
     "output_type": "stream",
     "text": [
      "Número de correspondências nas mesmas linhas: 5331\n",
      "Número de acertos com target igual a 0: 4795\n",
      "Número de acertos com target igual a 1: 536\n",
      "Percentual de acertos total: 95.17943224424211%\n",
      "Percentual de acertos de valores igual a 0: 96.87%\n",
      "Percentual de acertos de valores igual a 1: 82.46%\n"
     ]
    }
   ],
   "source": [
    "import csv\n",
    "\n",
    "# Nomes dos arquivos CSV que você deseja comparar (substitua pelos seus próprios arquivos)\n",
    "arquivo1 = 'treino.csv'\n",
    "arquivo2 = 'treino_clone.csv'\n",
    "\n",
    "# detalhes dos valores dos registros \n",
    "total_registros_zero = 4950\n",
    "total_registros_um = 650\n",
    "\n",
    "total_registros = 5601\n",
    "\n",
    "# Inicialize um contador para contar as correspondências nas mesmas linhas e numeros\n",
    "correspondencias_na_mesma_linha = 0\n",
    "acertos_zero = 0\n",
    "acertos_um = 0\n",
    "\n",
    "\n",
    "# Abra o primeiro arquivo CSV e leia seus dados\n",
    "with open(arquivo1, 'r', newline='') as arquivo_csv1:\n",
    "    leitor_csv1 = csv.reader(arquivo_csv1)\n",
    "    # Pule o cabeçalho, se houver\n",
    "    cabecalho1 = next(leitor_csv1, None)\n",
    "    \n",
    "    # Abra o segundo arquivo CSV e leia seus dados\n",
    "    with open(arquivo2, 'r', newline='') as arquivo_csv2:\n",
    "        leitor_csv2 = csv.reader(arquivo_csv2)\n",
    "        # Pule o cabeçalho, se houver\n",
    "        cabecalho2 = next(leitor_csv2, None)\n",
    "\n",
    "        # Loop para comparar os valores da coluna \"Target\" nas mesmas linhas\n",
    "        for linha1, linha2 in zip(leitor_csv1, leitor_csv2):\n",
    "            valor_target1 = linha1[-1]  # Último valor da linha1\n",
    "            valor_target2 = linha2[-1]  # Último valor da linha2\n",
    "\n",
    "            if valor_target1 == valor_target2:\n",
    "                correspondencias_na_mesma_linha += 1\n",
    "                if(valor_target1 == '0'):\n",
    "                    acertos_zero += 1\n",
    "\n",
    "                else:\n",
    "                    acertos_um += 1\n",
    "\n",
    "\n",
    "# Exiba o número de correspondências nas mesmas linhas\n",
    "print(f'Número de correspondências nas mesmas linhas: {correspondencias_na_mesma_linha}')\n",
    "print(f'Número de acertos com target igual a 0: {acertos_zero}')\n",
    "print(f'Número de acertos com target igual a 1: {acertos_um}')\n",
    "\n",
    "\n",
    "# calculo de percentual de acerto\n",
    "percentual_acertos_total = (correspondencias_na_mesma_linha/total_registros) * 100\n",
    "percentual_acertos_zero = (acertos_zero/total_registros_zero) * 100\n",
    "percentual_acertos_um = (acertos_um/total_registros_um) * 100\n",
    "\n",
    "print(f'Percentual de acertos total: {percentual_acertos_total}%')\n",
    "print('Percentual de acertos de valores igual a 0: {:.2f}%'.format(percentual_acertos_zero))\n",
    "print('Percentual de acertos de valores igual a 1: {:.2f}%'.format(percentual_acertos_um))\n"
   ]
  },
  {
   "cell_type": "markdown",
   "metadata": {},
   "source": [
    "Preenchendo a base de treino com a arvore de decisão"
   ]
  },
  {
   "cell_type": "code",
   "execution_count": 80,
   "metadata": {},
   "outputs": [
    {
     "name": "stdout",
     "output_type": "stream",
     "text": [
      "A nova coluna \"target\" foi adicionada ao arquivo teste_clone.csv com sucesso.\n"
     ]
    }
   ],
   "source": [
    "base_teste = \"teste_clone.csv\"\n",
    "\n",
    "\n",
    "# Lista de valores que você deseja adicionar como a nova coluna \"target\" (substitua pelos seus próprios valores)\n",
    "valores_target_float = (value_arvore)\n",
    "\n",
    "valores_target = [int(valor) for valor in valores_target_float]\n",
    "\n",
    "# Abra o arquivo CSV e leia seus dados\n",
    "with open(base_teste, 'r', newline='') as arquivo_csv:\n",
    "    leitor_csv = csv.reader(arquivo_csv)\n",
    "    \n",
    "    # Crie uma lista para armazenar os dados do CSV com a nova coluna \"target\"\n",
    "    dados_csv_com_target = []\n",
    "\n",
    "    primeira_linha = next(leitor_csv)\n",
    "    primeira_linha.append(\"target\")\n",
    "    dados_csv_com_target.append(primeira_linha)\n",
    "\n",
    "    # Loop para ler cada linha do arquivo CSV e adicionar a nova coluna \"target\"\n",
    "    for linha, valor_target in zip(leitor_csv, valores_target):\n",
    "        linha.append((valor_target))  # Adiciona o valor da nova coluna\n",
    "        dados_csv_com_target.append(linha)\n",
    "\n",
    "# Reabra o arquivo CSV em modo de escrita (\"w\") para sobrescrever os dados\n",
    "with open(base_teste, 'w', newline='') as arquivo_csv:\n",
    "    escritor_csv = csv.writer(arquivo_csv)\n",
    "    \n",
    "    # Escreva os dados atualizados no arquivo, agora com a nova coluna \"target\"\n",
    "    escritor_csv.writerows(dados_csv_com_target)\n",
    "\n",
    "print(f'A nova coluna \"target\" foi adicionada ao arquivo {base_teste} com sucesso.')\n"
   ]
  },
  {
   "cell_type": "markdown",
   "metadata": {},
   "source": [
    "Avaliando o modelo\n"
   ]
  },
  {
   "cell_type": "code",
   "execution_count": 88,
   "metadata": {},
   "outputs": [
    {
     "ename": "AttributeError",
     "evalue": "'DecisionTreeRegressor' object has no attribute 'predict_proba'",
     "output_type": "error",
     "traceback": [
      "\u001b[0;31m---------------------------------------------------------------------------\u001b[0m",
      "\u001b[0;31mAttributeError\u001b[0m                            Traceback (most recent call last)",
      "\u001b[1;32m/workspaces/celertitas/main.ipynb Cell 19\u001b[0m line \u001b[0;36m9\n\u001b[1;32m      <a href='vscode-notebook-cell://codespaces%2Bverbose-chainsaw-v4rwwxv55q73ppjv/workspaces/celertitas/main.ipynb#X34sdnNjb2RlLXJlbW90ZQ%3D%3D?line=6'>7</a>\u001b[0m revocacao \u001b[39m=\u001b[39m recall_score(y_teste, y_pred_validacao)\n\u001b[1;32m      <a href='vscode-notebook-cell://codespaces%2Bverbose-chainsaw-v4rwwxv55q73ppjv/workspaces/celertitas/main.ipynb#X34sdnNjb2RlLXJlbW90ZQ%3D%3D?line=7'>8</a>\u001b[0m medida_f \u001b[39m=\u001b[39m f1_score(y_teste, y_pred_validacao)\n\u001b[0;32m----> <a href='vscode-notebook-cell://codespaces%2Bverbose-chainsaw-v4rwwxv55q73ppjv/workspaces/celertitas/main.ipynb#X34sdnNjb2RlLXJlbW90ZQ%3D%3D?line=8'>9</a>\u001b[0m auc_roc \u001b[39m=\u001b[39m roc_auc_score(y_teste, modelo\u001b[39m.\u001b[39;49mpredict_proba(x_teste)[:, \u001b[39m1\u001b[39m])\n\u001b[1;32m     <a href='vscode-notebook-cell://codespaces%2Bverbose-chainsaw-v4rwwxv55q73ppjv/workspaces/celertitas/main.ipynb#X34sdnNjb2RlLXJlbW90ZQ%3D%3D?line=10'>11</a>\u001b[0m \u001b[39m# Exibir as métricas\u001b[39;00m\n\u001b[1;32m     <a href='vscode-notebook-cell://codespaces%2Bverbose-chainsaw-v4rwwxv55q73ppjv/workspaces/celertitas/main.ipynb#X34sdnNjb2RlLXJlbW90ZQ%3D%3D?line=11'>12</a>\u001b[0m \u001b[39mprint\u001b[39m(\u001b[39m\"\u001b[39m\u001b[39mPrecisão:\u001b[39m\u001b[39m\"\u001b[39m, precisao)\n",
      "\u001b[0;31mAttributeError\u001b[0m: 'DecisionTreeRegressor' object has no attribute 'predict_proba'"
     ]
    }
   ],
   "source": [
    "from sklearn.metrics import precision_score, recall_score, f1_score, roc_auc_score\n",
    "\n",
    "y_pred_validacao = modelo.predict(x_teste)\n",
    "\n",
    "# Avalie o desempenho do modelo no conjunto de validação\n",
    "precisao = precision_score(y_teste, y_pred_validacao)\n",
    "revocacao = recall_score(y_teste, y_pred_validacao)\n",
    "medida_f = f1_score(y_teste, y_pred_validacao)\n",
    "\n",
    "# Exibir as métricas\n",
    "print(\"Precisão:\", precisao)\n",
    "print(\"Revocação:\", revocacao)\n",
    "print(\"Medida-F:\", medida_f)\n"
   ]
  },
  {
   "cell_type": "markdown",
   "metadata": {},
   "source": [
    "formatando a planilha para exibir apenas o id e o target"
   ]
  },
  {
   "cell_type": "code",
   "execution_count": 90,
   "metadata": {},
   "outputs": [],
   "source": [
    "teste = pd.read_csv('teste_clone.csv')\n",
    "\n",
    "teste_original = teste[['id' , 'target']]\n",
    "\n",
    "teste_original.to_csv('teste_original.csv' , index=False)"
   ]
  },
  {
   "cell_type": "markdown",
   "metadata": {},
   "source": [
    "Regressão Linear"
   ]
  },
  {
   "cell_type": "code",
   "execution_count": null,
   "metadata": {},
   "outputs": [
    {
     "name": "stdout",
     "output_type": "stream",
     "text": [
      "o valor do primeiro é: 0.169587037415308\n",
      "erro médio:  0.09344568507560089\n",
      "r2: -0.3781852956066829\n"
     ]
    }
   ],
   "source": [
    "from sklearn.linear_model import LinearRegression\n",
    "\n",
    "x = data.drop('target' , axis=1)\n",
    "\n",
    "\n",
    "modelo_regressao = LinearRegression()\n",
    "\n",
    "modelo_regressao.fit(x_treino , y_treino)\n",
    "\n",
    "y_regressao = modelo_regressao.predict(x_teste)\n",
    "\n",
    "resultado_regressao = r2_score(y_teste , y_regressao)\n",
    "\n",
    "erro_quadratico_regressao = mean_squared_error(y_teste , y_regressao)\n",
    "\n",
    "value = modelo_regressao.predict(x)\n",
    "\n",
    "print(\"o valor do primeiro é:\" , (value[0]))\n",
    "print(\"erro médio: \" , erro_quadratico_regressao)\n",
    "print(\"r2:\" ,resultado)"
   ]
  },
  {
   "cell_type": "code",
   "execution_count": null,
   "metadata": {},
   "outputs": [
    {
     "name": "stdout",
     "output_type": "stream",
     "text": [
      "erro quadrado médio:  0.10024606466333211\n",
      "r2: 0.05555070568436238\n",
      "resultado 0.1727789141909337\n"
     ]
    }
   ],
   "source": [
    "from sklearn.linear_model import  LinearRegression\n",
    "from sklearn.model_selection import train_test_split\n",
    "import pandas as pd\n",
    "from sklearn.metrics import r2_score , mean_squared_error\n",
    "\n",
    "data = pd.read_csv('treino.csv')\n",
    "\n",
    "#meu conjunto de dados \n",
    "\n",
    "x = data.drop('target' , axis=1)\n",
    "\n",
    "# os rótulos dos meus dados \n",
    "\n",
    "y = data.target\n",
    "\n",
    "# machine learnig\n",
    "\n",
    "x_treino , x_teste , y_treino , y_teste = train_test_split(x,y)\n",
    "\n",
    "#instancia de modelo\n",
    "modelo_regressao = LinearRegression()\n",
    "\n",
    "modelo_regressao.fit(x_treino , y_treino)\n",
    "\n",
    "y_regressao = modelo_regressao.predict(x_teste)\n",
    "\n",
    "resultado_regressao = r2_score(y_teste , y_regressao)\n",
    "\n",
    "erro_quadratico_regressao = mean_squared_error(y_teste , y_regressao)\n",
    "\n",
    "value = modelo_regressao.predict(x)\n",
    "\n",
    "print(\"erro quadrado médio: \" , erro_quadratico_regressao)\n",
    "print(\"r2:\" , resultado_regressao)\n",
    "print(\"resultado\" , value[0])\n",
    "\n",
    "\n"
   ]
  },
  {
   "cell_type": "markdown",
   "metadata": {},
   "source": [
    "Plotar um gráfico, demostrando os resultados em que o target é igual a 1 no modelo de regressao"
   ]
  },
  {
   "cell_type": "code",
   "execution_count": null,
   "metadata": {},
   "outputs": [
    {
     "data": {
      "image/png": "[encoded data removed]",
      "text/plain": [
       "<Figure size 800x600 with 2 Axes>"
      ]
     },
     "metadata": {},
     "output_type": "display_data"
    }
   ],
   "source": [
    "import matplotlib.pyplot as plt\n",
    "import seaborn as sns\n",
    "import numpy as np\n",
    "\n",
    "data_um = data[data['target'] == 1]\n",
    "x_um = data_um.drop('target' , axis=1)\n",
    "value_um = modelo.predict(x_um)\n",
    "\n",
    "valores_unicos , frequencia = np.unique(value_um , return_counts=True)\n",
    "\n",
    "# Crie um gráfico de calor\n",
    "plt.figure(figsize=(8, 6))\n",
    "sns.heatmap(frequencia.reshape(1, -1), annot=True, cmap=\"YlGnBu\", xticklabels=valores_unicos)\n",
    "\n",
    "# Configure os rótulos dos eixos\n",
    "plt.xlabel(\"Valores\")\n",
    "plt.ylabel(\"Frequência\")\n",
    "\n",
    "\n",
    "\n",
    "# Mostre o gráfico\n",
    "plt.title(\"Gráfico de Calor da Frequência dos Dados\")\n",
    "plt.show()"
   ]
  }
 ],
 "metadata": {
  "kernelspec": {
   "display_name": "Python 3 (ipykernel)",
   "language": "python",
   "name": "python3"
  },
  "language_info": {
   "codemirror_mode": {
    "name": "ipython",
    "version": 3
   },
   "file_extension": ".py",
   "mimetype": "text/x-python",
   "name": "python",
   "nbconvert_exporter": "python",
   "pygments_lexer": "ipython3",
   "version": "3.10.8"
  },
  "orig_nbformat": 4
 },
 "nbformat": 4,
 "nbformat_minor": 2
}
